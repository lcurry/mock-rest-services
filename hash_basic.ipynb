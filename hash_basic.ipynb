{
 "cells": [
  {
   "cell_type": "code",
   "execution_count": 4,
   "metadata": {},
   "outputs": [],
   "source": [
    "import requests\n",
    "import json"
   ]
  },
  {
   "cell_type": "code",
   "execution_count": 5,
   "metadata": {},
   "outputs": [],
   "source": [
    "myobj = {\n",
    "    \n",
    "    'paths': \n",
    "                [\n",
    "                    '/mng/scott/test_files/virus_1.exe',\n",
    "                    '/mng/scott/test_files/virus_2.exe',\n",
    "                    '/tmp/mng/test/virus_3.exe',\n",
    "                    '/tmp/mng/test/virus_4.exe',\n",
    "                    '/does/not/exist.exe',\n",
    "                    '/does/not/exist/either',\n",
    "                ]\n",
    "\n",
    "}"
   ]
  },
  {
   "cell_type": "code",
   "execution_count": 6,
   "metadata": {},
   "outputs": [
    {
     "name": "stdout",
     "output_type": "stream",
     "text": [
      "[{'virus_1.exe': {'md5': '6d0d595d9f7c1913a09d3d262750e4fe', 'sha1': 'b6818167a53139b7379426d8ec5433abf7e3137f', 'sha256': 'a18109557be294cdf3988168e6325ce76d8e87001d096cf148f42fbef8e9f0ee', 'sha512': '28327e3942e43db62917a5469c167884d92c98138bd4a9cb3ad6ebb321423671a17285087fe899550706dff2b5ae170338676baef1402b1817bccdfa55f7a63b'}}, {'virus_2.exe': {'md5': 'f4e57273e288d5a4b855f261a8a51e3e', 'sha1': '5086b323c2b28ee25c82f2b3fe7ae427bcd3a2fd', 'sha256': '2aced31e5ebb0b610c660dcf6e82d2949dbb96afe6894c098a23dd56547e60c1', 'sha512': 'c7aac5f01267a582bbd694edd72ae6398a453174baf58dfa1bc6513fc7f874d729b923ed5e28a6a0d999040736ea2cc9e4dc13eb575e990c23ab3ce804461e79'}}, {'/tmp/mng/test/virus_3.exe': 'Path does not exist!'}, {'/tmp/mng/test/virus_4.exe': 'Path does not exist!'}, {'/does/not/exist.exe': 'Path does not exist!'}, {'/does/not/exist/either': 'Path does not exist!'}]\n"
     ]
    }
   ],
   "source": [
    "url = 'http://127.0.0.1:5001/create_hashes/'\n",
    "res = requests.put(url, json = myobj)\n",
    "#print(res.status_code)\n",
    "#print(json.loads(res._content)['123456']['sha256'])\n",
    "print(json.loads(res._content))\n",
    "#print('virus_1.exe - MD5: ',json.loads(res._content)[0]['virus_1.exe']['md5'])"
   ]
  },
  {
   "cell_type": "code",
   "execution_count": null,
   "metadata": {},
   "outputs": [],
   "source": []
  }
 ],
 "metadata": {
  "kernelspec": {
   "display_name": "Python 3",
   "language": "python",
   "name": "python3"
  },
  "language_info": {
   "codemirror_mode": {
    "name": "ipython",
    "version": 3
   },
   "file_extension": ".py",
   "mimetype": "text/x-python",
   "name": "python",
   "nbconvert_exporter": "python",
   "pygments_lexer": "ipython3",
   "version": "3.6.8"
  }
 },
 "nbformat": 4,
 "nbformat_minor": 2
}
