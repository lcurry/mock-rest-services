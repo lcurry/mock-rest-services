{
 "cells": [
  {
   "cell_type": "code",
   "execution_count": 1,
   "metadata": {},
   "outputs": [],
   "source": [
    "import requests"
   ]
  },
  {
   "cell_type": "code",
   "execution_count": 2,
   "metadata": {},
   "outputs": [],
   "source": [
    "zip_src_path = '/home/ec2-user/zip_files/some_viruses.zip'\n",
    "#unzip_dest_path = '/tmp/unzipped/'\n",
    "file_dest_path = '/mng'"
   ]
  },
  {
   "cell_type": "code",
   "execution_count": 3,
   "metadata": {},
   "outputs": [],
   "source": [
    "myobj = {\n",
    "    \n",
    "    \"file_list\": \n",
    "                [\n",
    "                    {\n",
    "                     \"filename\": \"some_viruses.zip\",\n",
    "                     \"zip_src_path\": zip_src_path,\n",
    "                     \"file_dest_path\": file_dest_path\n",
    "                    }\n",
    "                ]\n",
    "\n",
    "}"
   ]
  },
  {
   "cell_type": "code",
   "execution_count": 4,
   "metadata": {},
   "outputs": [
    {
     "name": "stdout",
     "output_type": "stream",
     "text": [
      "b'{\"file_list\": [{\"filename\": \"some_viruses.zip\", \"zip_src_path\": \"/home/ec2-user/zip_files/some_viruses.zip\", \"file_dest_path\": \"/mng\"}]}'\n"
     ]
    }
   ],
   "source": [
    "req=requests.put('http://10.150.0.215:5000/unzip/', json=myobj)\n",
    "print(req._content)"
   ]
  },
  {
   "cell_type": "code",
   "execution_count": null,
   "metadata": {},
   "outputs": [],
   "source": []
  }
 ],
 "metadata": {
  "kernelspec": {
   "display_name": "Python 3",
   "language": "python",
   "name": "python3"
  },
  "language_info": {
   "codemirror_mode": {
    "name": "ipython",
    "version": 3
   },
   "file_extension": ".py",
   "mimetype": "text/x-python",
   "name": "python",
   "nbconvert_exporter": "python",
   "pygments_lexer": "ipython3",
   "version": "3.6.8"
  }
 },
 "nbformat": 4,
 "nbformat_minor": 2
}
